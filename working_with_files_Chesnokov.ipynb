{
 "cells": [
  {
   "cell_type": "code",
   "execution_count": 6,
   "id": "e61fefbe",
   "metadata": {},
   "outputs": [],
   "source": [
    "import pickle\n",
    "import csv\n",
    "\n",
    "def load_table(dtype = '',path = '', name = ''):\n",
    "    try:\n",
    "        if dtype == 'csv':\n",
    "            result = []\n",
    "            if path != '':\n",
    "                with open(f'{path}/{name}.csv', newline='') as csvfile:\n",
    "                    reader = csv.reader(csvfile, delimiter = ';')\n",
    "                    for row in reader:\n",
    "                        result.append(row)\n",
    "                    return result\n",
    "            else:\n",
    "                with open(f'{name}.csv', newline='') as csvfile:\n",
    "                    reader = csv.reader(csvfile, delimiter = ';')\n",
    "                    for row in reader:\n",
    "                        result.append(row)\n",
    "                    return result\n",
    "        elif dtype == 'txt':\n",
    "            result = []\n",
    "            if path != '':\n",
    "                with open(f'{path}/{name}.txt', 'r') as txtfile:\n",
    "                    result = txtfile.readlines()\n",
    "                    return result\n",
    "            else:\n",
    "                with open(f'{name}.txt', 'r') as txtfile:\n",
    "                    result = txtfile.readlines()\n",
    "                    return result\n",
    "        elif dtype == 'pkl':\n",
    "            result = []\n",
    "            if path!= '':\n",
    "                with open(f'{path}/{name}.pkl', 'rb') as picklefile:\n",
    "                    while True:\n",
    "                        try:\n",
    "                            result.append(pickle.load(picklefile))\n",
    "                        except EOFError:\n",
    "                            return result\n",
    "                            break\n",
    "            else:\n",
    "                with open(f'{name}.pkl', 'rb') as picklefile:\n",
    "                    while True:\n",
    "                        try:\n",
    "                            result.append(pickle.load(picklefile))\n",
    "                        except EOFError:\n",
    "                            return result\n",
    "                            break  \n",
    "    except FileNotFoundError:\n",
    "        print(\"Такого файла не существует, или путь к файлу, или его имя указано неверно!\")"
   ]
  },
  {
   "cell_type": "code",
   "execution_count": 7,
   "id": "17af2a7c",
   "metadata": {},
   "outputs": [],
   "source": [
    "def create_table(doctype='csv', path='', name='default', csvdata=[], txtdata='', pickledata = {}):\n",
    "    if doctype == 'csv':\n",
    "        print(path)\n",
    "        if path == '':\n",
    "        #Аналогично пишем, но тут дописываем write для создания файла\n",
    "            with open(f'{name}.csv', 'w', newline='') as csvfile:\n",
    "                print(f\">>> файл {name}.{doctype} в директории {path} создан\")\n",
    "                #Создаём врайтер\n",
    "                writer = csv.writer(csvfile, delimiter=';')\n",
    "                print(f\">>> запись в файл начата\")\n",
    "                nd = []\n",
    "                #Перебираем строчки\n",
    "                for row in csvdata:\n",
    "                    if type(row) is list:\n",
    "                        #Если тип строчки лист, то записываем\n",
    "                        writer.writerow(row)\n",
    "                    else:\n",
    "                        #Иначе добавляем в лист и записываем\n",
    "                        nd.append(row)\n",
    "                        print(nd)\n",
    "                        writer.writerow(nd)\n",
    "                        nd = []\n",
    "                print(f\">>> запись в файл закончена\")\n",
    "        else:\n",
    "            with open(f'{path}/{name}.csv', 'w', newline='') as csvfile:\n",
    "                print(f\">>> файл {name}.{doctype} в директории {path} создан\")\n",
    "                #Создаём врайтер\n",
    "                writer = csv.writer(csvfile, delimiter=';')\n",
    "                print(f\">>> запись в файл начата\")\n",
    "                nd = []\n",
    "                #Перебираем строчки\n",
    "                for row in csvdata:\n",
    "                    if type(row) is list:\n",
    "                        #Если тип строчки лист, то записываем\n",
    "                        writer.writerow(row)\n",
    "                    else:\n",
    "                        #Иначе добавляем в лист и записываем\n",
    "                        nd.append(row)\n",
    "                        print(nd)\n",
    "                        writer.writerow(nd)\n",
    "                        nd = []\n",
    "                print(f\">>> запись в файл закончена\")\n",
    "    elif doctype == 'txt':\n",
    "        if path == '':\n",
    "            with open(f'{name}.txt', 'w') as txtfile:\n",
    "                print(f\">>> файл {name}.{doctype} в директории {path} создан\")\n",
    "                print(f\">>> запись в файл начата\")\n",
    "                for row in txtdata:\n",
    "                    txtfile.write(row)\n",
    "            print(f\">>> запись в файл закончена\")\n",
    "        else:\n",
    "            with open(f'{path}/{name}.txt', 'w') as txtfile:\n",
    "                print(f\">>> файл {name}.{doctype} в директории {path} создан\")\n",
    "                print(f\">>> запись в файл начата\")\n",
    "                for row in txtdata:\n",
    "                    txtfile.write(row)\n",
    "            print(f\">>> запись в файл закончена\")\n",
    "    elif doctype == 'pickle':\n",
    "        if path == '':\n",
    "            with open(f'{name}.pickle', 'wb') as picklefile:\n",
    "                print(f\">>> файл {name}.{doctype} в директории {path} создан\")\n",
    "                print(f\">>> запись в файл начата\")\n",
    "                pickle.dump(pickledata, picklefile, protocol=pickle.HIGHEST_PROTOCOL)\n",
    "                print(f\">>> запись в файл закончена\")\n",
    "        else:\n",
    "            with open(f'{path}/{name}.pickle', 'wb') as picklefile:\n",
    "                print(f\">>> файл {name}.{doctype} в директории {path} создан\")\n",
    "                print(f\">>> запись в файл начата\")\n",
    "                pickle.dump(pickledata, picklefile, protocol=pickle.HIGHEST_PROTOCOL)\n",
    "                print(f\">>> запись в файл закончена\")"
   ]
  },
  {
   "cell_type": "code",
   "execution_count": 8,
   "id": "830bc69c",
   "metadata": {},
   "outputs": [
    {
     "name": "stdout",
     "output_type": "stream",
     "text": [
      "[['5,17,8'], ['2,18,3'], ['1,21,1'], ['1,7,3'], ['3,34,5']]\n"
     ]
    }
   ],
   "source": [
    "a = load_table('csv','','1')\n",
    "print(a)"
   ]
  },
  {
   "cell_type": "code",
   "execution_count": 9,
   "id": "de9ef670",
   "metadata": {},
   "outputs": [],
   "source": [
    "def print_table(table):\n",
    "    for i in table:\n",
    "        print(i)"
   ]
  },
  {
   "cell_type": "code",
   "execution_count": 10,
   "id": "b94139f0",
   "metadata": {},
   "outputs": [
    {
     "name": "stdout",
     "output_type": "stream",
     "text": [
      "['5,17,8']\n",
      "['2,18,3']\n",
      "['1,21,1']\n",
      "['1,7,3']\n",
      "['3,34,5']\n"
     ]
    }
   ],
   "source": [
    "print_table(load_table('csv','','1'))"
   ]
  },
  {
   "cell_type": "code",
   "execution_count": 11,
   "id": "080dc5c1",
   "metadata": {},
   "outputs": [],
   "source": [
    "def get_rows_by_number(path='', name='',start=0, stop=0, copy_table=False):\n",
    "    result= load_table('csv', path, name)\n",
    "    ts = []\n",
    "    for i,r in enumerate(result):#i -  индекс, r - строчка\n",
    "        if i >= start and i <= stop:\n",
    "            ts.append(r)\n",
    "    if copy_table:\n",
    "        create_table('csv', path, f\"{name}_copy\", csvdata=ts)\n",
    "    else:\n",
    "        return(ts)"
   ]
  },
  {
   "cell_type": "code",
   "execution_count": 12,
   "id": "0e30183e",
   "metadata": {},
   "outputs": [
    {
     "name": "stdout",
     "output_type": "stream",
     "text": [
      "\n",
      ">>> файл 1_copy.csv в директории  создан\n",
      ">>> запись в файл начата\n",
      ">>> запись в файл закончена\n"
     ]
    }
   ],
   "source": [
    "get_rows_by_number('', '1', 0, 2, True)"
   ]
  },
  {
   "cell_type": "code",
   "execution_count": 13,
   "id": "af3e2044",
   "metadata": {},
   "outputs": [],
   "source": [
    "def get_rows_by_index(path='',name='',val=[], copy_table=False):\n",
    "    result= load_table('csv', path, name)\n",
    "    ts = []\n",
    "    for row in result:#переборка строк\n",
    "        for each in val:\n",
    "            if each in row:#ищем значения в строчке\n",
    "                ts.append(row)\n",
    "                break\n",
    "    if copy_table:\n",
    "        create_table('csv', path, f\"{name}_copy\", csvdata=ts)\n",
    "    else:\n",
    "        return(ts)"
   ]
  },
  {
   "cell_type": "code",
   "execution_count": 14,
   "id": "0237816b",
   "metadata": {},
   "outputs": [
    {
     "name": "stdout",
     "output_type": "stream",
     "text": [
      "\n",
      ">>> файл 1_copy.csv в директории  создан\n",
      ">>> запись в файл начата\n",
      ">>> запись в файл закончена\n"
     ]
    }
   ],
   "source": [
    "get_rows_by_index('', '1', '2', True)"
   ]
  },
  {
   "cell_type": "code",
   "execution_count": 15,
   "id": "6d97f60a",
   "metadata": {},
   "outputs": [],
   "source": [
    "def get_column_types(path='', name='', by_number=True):\n",
    "    result= load_table('csv', path, name)\n",
    "    ts = {}\n",
    "    value = []\n",
    "    k = 0\n",
    "    for row in result:\n",
    "        if k == 0:\n",
    "            for each in row:\n",
    "                ts.setdefault(each, '')\n",
    "                value.append(each)#словарь\n",
    "        elif k == 1:\n",
    "            for ind,each in enumerate(row):\n",
    "                ts[value[ind]] = str(type(each))#значение словаря\n",
    "            break\n",
    "        k+=1\n",
    "    return(ts)"
   ]
  },
  {
   "cell_type": "code",
   "execution_count": 16,
   "id": "7ef49d06",
   "metadata": {},
   "outputs": [
    {
     "data": {
      "text/plain": [
       "{'5,17,8': \"<class 'str'>\"}"
      ]
     },
     "execution_count": 16,
     "metadata": {},
     "output_type": "execute_result"
    }
   ],
   "source": [
    "get_column_types('', '1') "
   ]
  },
  {
   "cell_type": "code",
   "execution_count": 17,
   "id": "d52138e4",
   "metadata": {},
   "outputs": [],
   "source": [
    "def get_values(path='', name='', column=0):\n",
    "    result= load_table('csv', path, name)\n",
    "    ts = []\n",
    "    if type(column) is int:\n",
    "        for row in result:\n",
    "            try:\n",
    "                ts.append(row[column])\n",
    "            except IndexError:\n",
    "                ts.append(None)\n",
    "        return ts\n",
    "    else:\n",
    "        ind = 0\n",
    "        if column in result[0]:\n",
    "            #Ищем где нужное значение\n",
    "            for r,i in enumerate(result[0]):\n",
    "                if i == column:\n",
    "                    ind = r\n",
    "        for row in result:\n",
    "            try:\n",
    "                ts.append(row[ind])\n",
    "            except IndexError:\n",
    "                ts.append(None)\n",
    "        return ts"
   ]
  },
  {
   "cell_type": "code",
   "execution_count": 19,
   "id": "e52f60ab",
   "metadata": {},
   "outputs": [
    {
     "data": {
      "text/plain": [
       "['5,17,8', '2,18,3', '1,21,1', '1,7,3', '3,34,5']"
      ]
     },
     "execution_count": 19,
     "metadata": {},
     "output_type": "execute_result"
    }
   ],
   "source": [
    "get_values('','1',0)"
   ]
  },
  {
   "cell_type": "code",
   "execution_count": 157,
   "id": "d6b0e964",
   "metadata": {},
   "outputs": [],
   "source": [
    "def get_value(path='', name='', column=0):\n",
    "    try:\n",
    "        if type(column) is int:\n",
    "            return load_table('csv', path, name)[0][column]\n",
    "        else:\n",
    "            ind = 0\n",
    "            if column in load_table('csv', path, name)[0]:\n",
    "                for r,i in enumerate(load_table('csv', path, name)[0]):\n",
    "                    if i == column:\n",
    "                        ind = r\n",
    "            return load_table('csv', path, name)[0][ind]\n",
    "\n",
    "    except IndexError:\n",
    "        return None"
   ]
  },
  {
   "cell_type": "code",
   "execution_count": 158,
   "id": "b5d68a79",
   "metadata": {},
   "outputs": [
    {
     "data": {
      "text/plain": [
       "'age'"
      ]
     },
     "execution_count": 158,
     "metadata": {},
     "output_type": "execute_result"
    }
   ],
   "source": [
    "get_value('','1',2)"
   ]
  },
  {
   "cell_type": "code",
   "execution_count": 171,
   "id": "7755c66c",
   "metadata": {},
   "outputs": [],
   "source": [
    "def set_values(path='', name='', values = [], column=0):\n",
    "    result= load_table('csv', path, name)\n",
    "    ts = []\n",
    "    for ind, row in enumerate(result):\n",
    "        #Пропускаем первую строчку\n",
    "        if ind == 0:\n",
    "            ts.append(row)\n",
    "        elif ind > len(values):\n",
    "            break\n",
    "        else:\n",
    "            ts.append(row)\n",
    "            ts[ind][column] = values[ind-4]\n",
    "    return ts"
   ]
  },
  {
   "cell_type": "code",
   "execution_count": 172,
   "id": "671aee93",
   "metadata": {},
   "outputs": [
    {
     "data": {
      "text/plain": [
       "[['name', 'family', 'age'],\n",
       " ['ivan', 'chesn', '1'],\n",
       " ['vlad', 'bondar', '2'],\n",
       " ['artem', 'zolot', '3']]"
      ]
     },
     "execution_count": 172,
     "metadata": {},
     "output_type": "execute_result"
    }
   ],
   "source": [
    "set_values('','1',('123'),2)"
   ]
  },
  {
   "cell_type": "code",
   "execution_count": 161,
   "id": "f8914848",
   "metadata": {},
   "outputs": [],
   "source": [
    "def set_value(path='', name='', value='', column=0):\n",
    "    result= load_table('csv', path, name)\n",
    "    ts = []\n",
    "    for ind, row in enumerate(result):\n",
    "        if ind == 0:\n",
    "            ts.append(row)\n",
    "        elif ind > len(value):\n",
    "            break\n",
    "        else:\n",
    "            ts.append(row)\n",
    "            #То же самое, только изменяем на одно, а не 2> значений\n",
    "            ts[ind][column] = value\n",
    "    return ts"
   ]
  },
  {
   "cell_type": "code",
   "execution_count": 162,
   "id": "b5d28f43",
   "metadata": {},
   "outputs": [
    {
     "data": {
      "text/plain": [
       "[['name', 'family', 'age'], ['ivan', 'chesn', '4']]"
      ]
     },
     "execution_count": 162,
     "metadata": {},
     "output_type": "execute_result"
    }
   ],
   "source": [
    "set_value('','1','4',2)"
   ]
  },
  {
   "cell_type": "code",
   "execution_count": 35,
   "id": "7410d336",
   "metadata": {},
   "outputs": [
    {
     "data": {
      "text/plain": [
       "[13, 5, 2, 4, 8]"
      ]
     },
     "execution_count": 35,
     "metadata": {},
     "output_type": "execute_result"
    }
   ],
   "source": [
    "def add(column1, column2, path='', name=''):\n",
    "    result= load_table('csv', path, name)\n",
    "    # строки разбиваются на столбцы следующим образом:\n",
    "    # сначала создается пустой список из стольких списков, сколько столбцов в первой строке\n",
    "    columns = [[] for col in result[0][0].split(',')]\n",
    "    # затем строки из ввода делятся на столбцы по запятой и записываются в соотвествующие столбцы columns\n",
    "    for row in result:\n",
    "        for i in range(len(columns)):\n",
    "            columns[i].append(row[0].split(',')[i])\n",
    "    # потом выдается вывод в зависимости от типа столбца который определяется для обоих столбцов    \n",
    "    if columns[column1][0] in ('True', 'False') and columns[column2][0] in ('True', 'False'): \n",
    "        return [bool(columns[column1][i])+bool(columns[column2][i]) for i in range(len(columns[0]))]\n",
    "    \n",
    "    # проверяются разные пары типов: int + int, float + float, float + int, int + float\n",
    "    elif columns[column1][0].isdigit() and columns[column2][0].isdigit(): \n",
    "        return [int(columns[column1][i])+int(columns[column2][i]) for i in range(len(columns[0]))]\n",
    "    \n",
    "    elif '.' in columns[column1][0] and '.' in columns[column2][0]:\n",
    "        try:\n",
    "            return [float(columns[column1][i])+float(columns[column2][i]) for i in range(len(columns[0]))]\n",
    "        except ValueError:\n",
    "                print('Некорректный тип столбца')\n",
    "                \n",
    "    elif '.' in columns[column1][0] and columns[column2][0].isdigit():\n",
    "        try:\n",
    "            return [float(columns[column1][i])+int(columns[column2][i]) for i in range(len(columns[0]))]\n",
    "        except ValueError:\n",
    "                print('Некорректный тип столбца')\n",
    "                \n",
    "    elif columns[column1][0].isdigit() and '.' in columns[column2][0]:\n",
    "        try:\n",
    "            return [int(columns[column1][i])+float(columns[column2][i]) for i in range(len(columns[0]))]\n",
    "        except ValueError:\n",
    "                print('Некорректный тип столбца')\n",
    "    \n",
    "    # если ни один из типов не был обнаружен выводится сообщение об ошибке\n",
    "    else:\n",
    "        print('Некорректный тип столбца')\n",
    "\n",
    "# сумма первого и второго\n",
    "add(0, 2, '', '1')"
   ]
  },
  {
   "cell_type": "code",
   "execution_count": 36,
   "id": "981bf0f3",
   "metadata": {},
   "outputs": [
    {
     "data": {
      "text/plain": [
       "[3, 1, 0, 2, 2]"
      ]
     },
     "execution_count": 36,
     "metadata": {},
     "output_type": "execute_result"
    }
   ],
   "source": [
    "def sub(column1, column2, path='', name=''):\n",
    "    result= load_table('csv', path, name)\n",
    "    # строки разбиваются на столбцы следующим образом:\n",
    "    # сначала создается пустой список из стольких списков, сколько столбцов в первой строке\n",
    "    columns = [[] for col in result[0][0].split(',')]\n",
    "    # затем строки из ввода делятся на столбцы по запятой и записываются в соотвествующие столбцы columns\n",
    "    for row in result:\n",
    "        for i in range(len(columns)):\n",
    "            columns[i].append(row[0].split(',')[i])\n",
    "    # потом выдается вывод в зависимости от типа столбца который определяется для обоих столбцов    \n",
    "    if columns[column1][0] in ('True', 'False') and columns[column2][0] in ('True', 'False'): \n",
    "        return [bool(columns[column1][i])-bool(columns[column2][i]) for i in range(len(columns[0]))]\n",
    "    \n",
    "    # проверяются разные пары типов: int + int, float + float, float + int, int + float\n",
    "    elif columns[column1][0].isdigit() and columns[column2][0].isdigit(): \n",
    "        return [int(columns[column1][i])-int(columns[column2][i]) for i in range(len(columns[0]))]\n",
    "    \n",
    "    elif '.' in columns[column1][0] and '.' in columns[column2][0]:\n",
    "        try:\n",
    "            return [float(columns[column1][i])-float(columns[column2][i]) for i in range(len(columns[0]))]\n",
    "        except ValueError:\n",
    "                print('Некорректный тип столбца')\n",
    "                \n",
    "    elif '.' in columns[column1][0] and columns[column2][0].isdigit():\n",
    "        try:\n",
    "            return [float(columns[column1][i])-int(columns[column2][i]) for i in range(len(columns[0]))]\n",
    "        except ValueError:\n",
    "                print('Некорректный тип столбца')\n",
    "                \n",
    "    elif columns[column1][0].isdigit() and '.' in columns[column2][0]:\n",
    "        try:\n",
    "            return [int(columns[column1][i])-float(columns[column2][i]) for i in range(len(columns[0]))]\n",
    "        except ValueError:\n",
    "                print('Некорректный тип столбца')\n",
    "    \n",
    "    # если ни один из типов не был обнаружен выводится сообщение об ошибке\n",
    "    else:\n",
    "        print('Некорректный тип столбца')\n",
    "\n",
    "# разность второго и первого\n",
    "sub(2, 0, '', '1')"
   ]
  },
  {
   "cell_type": "code",
   "execution_count": 37,
   "id": "e299fe85",
   "metadata": {},
   "outputs": [
    {
     "data": {
      "text/plain": [
       "[40, 6, 1, 3, 15]"
      ]
     },
     "execution_count": 37,
     "metadata": {},
     "output_type": "execute_result"
    }
   ],
   "source": [
    "def mul(column1, column2, path='', name=''):\n",
    "    result= load_table('csv', path, name)\n",
    "    # строки разбиваются на столбцы следующим образом:\n",
    "    # сначала создается пустой список из стольких списков, сколько столбцов в первой строке\n",
    "    columns = [[] for col in result[0][0].split(',')]\n",
    "    # затем строки из ввода делятся на столбцы по запятой и записываются в соотвествующие столбцы columns\n",
    "    for row in result:\n",
    "        for i in range(len(columns)):\n",
    "            columns[i].append(row[0].split(',')[i])\n",
    "    # потом выдается вывод в зависимости от типа столбца который определяется для обоих столбцов    \n",
    "    if columns[column1][0] in ('True', 'False') and columns[column2][0] in ('True', 'False'): \n",
    "        return [bool(columns[column1][i])*bool(columns[column2][i]) for i in range(len(columns[0]))]\n",
    "    \n",
    "    # проверяются разные пары типов: int + int, float + float, float + int, int + float\n",
    "    elif columns[column1][0].isdigit() and columns[column2][0].isdigit(): \n",
    "        return [int(columns[column1][i])*int(columns[column2][i]) for i in range(len(columns[0]))]\n",
    "    \n",
    "    elif '.' in columns[column1][0] and '.' in columns[column2][0]:\n",
    "        try:\n",
    "            return [float(columns[column1][i])*float(columns[column2][i]) for i in range(len(columns[0]))]\n",
    "        except ValueError:\n",
    "                print('Некорректный тип столбца')\n",
    "                \n",
    "    elif '.' in columns[column1][0] and columns[column2][0].isdigit():\n",
    "        try:\n",
    "            return [float(columns[column1][i])*int(columns[column2][i]) for i in range(len(columns[0]))]\n",
    "        except ValueError:\n",
    "                print('Некорректный тип столбца')\n",
    "                \n",
    "    elif columns[column1][0].isdigit() and '.' in columns[column2][0]:\n",
    "        try:\n",
    "            return [int(columns[column1][i])*float(columns[column2][i]) for i in range(len(columns[0]))]\n",
    "        except ValueError:\n",
    "                print('Некорректный тип столбца')\n",
    "    \n",
    "    # если ни один из типов не был обнаружен выводится сообщение об ошибке\n",
    "    else:\n",
    "        print('Некорректный тип столбца')\n",
    "\n",
    "# произведение второго и первого\n",
    "mul(2, 0, '', '1')"
   ]
  },
  {
   "cell_type": "code",
   "execution_count": 38,
   "id": "4297d4e6",
   "metadata": {},
   "outputs": [
    {
     "data": {
      "text/plain": [
       "[1.6, 1.5, 1.0, 3.0, 1.6666666666666667]"
      ]
     },
     "execution_count": 38,
     "metadata": {},
     "output_type": "execute_result"
    }
   ],
   "source": [
    "def div(column1, column2, path='', name=''):\n",
    "    result= load_table('csv', path, name)\n",
    "    # строки разбиваются на столбцы следующим образом:\n",
    "    # сначала создается пустой список из стольких списков, сколько столбцов в первой строке\n",
    "    columns = [[] for col in result[0][0].split(',')]\n",
    "    # затем строки из ввода делятся на столбцы по запятой и записываются в соотвествующие столбцы columns\n",
    "    for row in result:\n",
    "        for i in range(len(columns)):\n",
    "            columns[i].append(row[0].split(',')[i])\n",
    "    # потом выдается вывод в зависимости от типа столбца который определяется для обоих столбцов    \n",
    "    if columns[column1][0] in ('True', 'False') and columns[column2][0] in ('True', 'False'): \n",
    "        return [bool(columns[column1][i])/bool(columns[column2][i]) for i in range(len(columns[0]))]\n",
    "    \n",
    "    # проверяются разные пары типов: int + int, float + float, float + int, int + float\n",
    "    elif columns[column1][0].isdigit() and columns[column2][0].isdigit(): \n",
    "        return [int(columns[column1][i])/int(columns[column2][i]) for i in range(len(columns[0]))]\n",
    "    \n",
    "    elif '.' in columns[column1][0] and '.' in columns[column2][0]:\n",
    "        try:\n",
    "            return [float(columns[column1][i])/float(columns[column2][i]) for i in range(len(columns[0]))]\n",
    "        except ValueError:\n",
    "                print('Некорректный тип столбца')\n",
    "                \n",
    "    elif '.' in columns[column1][0] and columns[column2][0].isdigit():\n",
    "        try:\n",
    "            return [float(columns[column1][i])/int(columns[column2][i]) for i in range(len(columns[0]))]\n",
    "        except ValueError:\n",
    "                print('Некорректный тип столбца')\n",
    "                \n",
    "    elif columns[column1][0].isdigit() and '.' in columns[column2][0]:\n",
    "        try:\n",
    "            return [int(columns[column1][i])/float(columns[column2][i]) for i in range(len(columns[0]))]\n",
    "        except ValueError:\n",
    "                print('Некорректный тип столбца')\n",
    "    \n",
    "    # если ни один из типов не был обнаружен выводится сообщение об ошибке\n",
    "    else:\n",
    "        print('Некорректный тип столбца')\n",
    "\n",
    "# частное второго и первого\n",
    "div(2, 0, '', '1')"
   ]
  },
  {
   "cell_type": "code",
   "execution_count": null,
   "id": "3ffeb0d5",
   "metadata": {},
   "outputs": [],
   "source": []
  }
 ],
 "metadata": {
  "kernelspec": {
   "display_name": "Python 3 (ipykernel)",
   "language": "python",
   "name": "python3"
  },
  "language_info": {
   "codemirror_mode": {
    "name": "ipython",
    "version": 3
   },
   "file_extension": ".py",
   "mimetype": "text/x-python",
   "name": "python",
   "nbconvert_exporter": "python",
   "pygments_lexer": "ipython3",
   "version": "3.9.7"
  }
 },
 "nbformat": 4,
 "nbformat_minor": 5
}
