{
 "cells": [
  {
   "cell_type": "code",
   "execution_count": 1,
   "metadata": {},
   "outputs": [],
   "source": [
    "from numpy import *\n",
    "from pylab import *\n",
    "import itertools\n",
    "import copy"
   ]
  },
  {
   "cell_type": "code",
   "execution_count": 2,
   "metadata": {},
   "outputs": [],
   "source": [
    "class Init(type):\n",
    "    def __call__(cls,name,x,y,num):#метакласс для удобного хранения всех графов\n",
    "        instance = cls.__new__(cls)\n",
    "        cls.instances.append(instance)#создание в метаклассе подклассов и добавления всех нужных нам аргументов\n",
    "        instance.name = name\n",
    "        instance.x = x\n",
    "        instance.y = y\n",
    "        instance.num = num\n",
    "class Node(object, metaclass = Init):# основной класс где проходит инициализацияя\n",
    "    instances = []\n",
    "    def __init__(self,name,x,y,num):\n",
    "        self.name = name\n",
    "        self.x = x\n",
    "        self.y = y\n",
    "        self.num = num\n",
    "    def __str__(self):\n",
    "        return f'Точка графа с координатами             x: {self.x} y: {self.y} и названием {self.name}'\n",
    "def connection(g1,g2):# функция, считающая расстояние между графами\n",
    "    con = sqrt((int(g1.x)-int(g2.x))**2 + (int(g1.y)-int(g2.y))**2)\n",
    "    return con"
   ]
  },
  {
   "cell_type": "code",
   "execution_count": null,
   "metadata": {},
   "outputs": [],
   "source": [
    "Node.instances = []\n",
    "x = int(input('введите кол-во графов, которые вы бы хотели создать'))\n",
    "for i in range(x):\n",
    "    name_gr = input('введите названия графа')\n",
    "    x_gr = input('введите координату x графа')\n",
    "    y_gr = input('введите координату y графа')\n",
    "    Node(name_gr,x_gr,y_gr,i)"
   ]
  },
  {
   "cell_type": "code",
   "execution_count": null,
   "metadata": {},
   "outputs": [],
   "source": [
    "Matrix_gr = array([[inf]*len(Node.instances)]*len(Node.instances))# создание матрицы, в котором будет храниться расстояние между графами, для удобного его использвования\n",
    "for i in Node.instances:\n",
    "    print(f'{i.name} - название графа, {i.num} - номер графа')\n",
    "x = int(input('введите кол-во соединений графов, которые вы бы хотели соединить, елси вы не хотите соединять какие-либо графы, введите 0'))\n",
    "sv_gr = []\n",
    "for i in range(x):#соединение графов\n",
    "    sv = []\n",
    "    gr_1 = int(input('введите номер первого графа')) \n",
    "    gr_2 = int(input('введите номер второго графа'))\n",
    "    sv.append(gr_1)\n",
    "    sv.append(gr_2)\n",
    "    sv_gr.append(sv)\n",
    "    Matrix_gr[gr_1][gr_2] = connection(Node.instances[gr_1],Node.instances[gr_2])"
   ]
  },
  {
   "cell_type": "code",
   "execution_count": null,
   "metadata": {},
   "outputs": [],
   "source": [
    "def product():#создание списков из возможных соединений\n",
    "    d = []\n",
    "    n = list(itertools.product(range(len(Matrix_gr)), repeat=len(Matrix_gr)))\n",
    "    for i in n:\n",
    "        if i not in d:\n",
    "            d.append(i) \n",
    "    return d\n",
    "def find_min_len():#основная функция которая считает минимальную длину\n",
    "    minw = 0\n",
    "    minimum = inf\n",
    "    minways = []\n",
    "    for i in Node.instances:\n",
    "        print(f'{i.name} - название графа, {i.num} - номер графа')\n",
    "    d = product()\n",
    "    d1 = copy.deepcopy(d)\n",
    "    gr_1 = int(input('введите номер графа, от которого вы хотите найти путь'))\n",
    "    gr_2 = int(input('введите номер графа, до которого вы хотите найти путь'))\n",
    "    for i in range(len(d)):#удаление возможных соединений, которые не удволетворяют условия\n",
    "        if d[i][0]!=gr_1 or d[i][-1]!= gr_2:\n",
    "            d1.remove(d[i])\n",
    "    for i in range(len(d1)):# перебирание всех возможных ходов и поиск минимума\n",
    "        k = gr_1\n",
    "        minw = 0\n",
    "        for j in range(1,len(d1[i])):\n",
    "            if d1[i][j]!=d1[i][j-1]:\n",
    "                if Matrix_gr[k][d1[i][j]]!=inf:\n",
    "                    minw+=Matrix_gr[k][d1[i][j]]\n",
    "                else:\n",
    "                    minw = inf\n",
    "                    break\n",
    "            else:\n",
    "                pass\n",
    "        if minw<minimum:\n",
    "            st = copy.deepcopy(d1[i])\n",
    "            minimum = minw\n",
    "            minways = list(st)\n",
    "        if minw==minimum:\n",
    "            st = copy.deepcopy(d1[i])\n",
    "            minways.append(st)\n",
    "    print(minimum,minways)\n",
    "def showgr():#функция для показа графов, через вызов функции\n",
    "    for i in sv_gr:\n",
    "        x = []\n",
    "        y = []\n",
    "        for j in i:\n",
    "            x.append(Node.instances[j].x)\n",
    "            y.append(Node.instances[j].y)\n",
    "            plot(x,y)\n",
    "def pMatr():#вывод матрицы для проверки\n",
    "    print(Matrix_gr)\n",
    "            "
   ]
  },
  {
   "cell_type": "code",
   "execution_count": null,
   "metadata": {},
   "outputs": [],
   "source": [
    "find_min_len()"
   ]
  },
  {
   "cell_type": "code",
   "execution_count": null,
   "metadata": {},
   "outputs": [],
   "source": [
    "showgr()"
   ]
  },
  {
   "cell_type": "code",
   "execution_count": null,
   "metadata": {},
   "outputs": [],
   "source": [
    "pMatr()"
   ]
  },
  {
   "cell_type": "code",
   "execution_count": null,
   "metadata": {},
   "outputs": [],
   "source": [
    "n = list(itertools.product(range(5), repeat=5))\n",
    "n"
   ]
  },
  {
   "cell_type": "code",
   "execution_count": 20,
   "metadata": {},
   "outputs": [
    {
     "data": {
      "text/plain": [
       "[[0, 1], [0, 2], [0, 3], [1, 2], [1, 3], [2, 3]]"
      ]
     },
     "execution_count": 20,
     "metadata": {},
     "output_type": "execute_result"
    }
   ],
   "source": [
    "sv_gr"
   ]
  },
  {
   "cell_type": "code",
   "execution_count": null,
   "metadata": {},
   "outputs": [],
   "source": []
  }
 ],
 "metadata": {
  "interpreter": {
   "hash": "7352d6b0d0165d839199612bac71de307a3d85b0668c8103ec4c2e2b5eb4c34e"
  },
  "kernelspec": {
   "display_name": "Python 3 (ipykernel)",
   "language": "python",
   "name": "python3"
  },
  "language_info": {
   "codemirror_mode": {
    "name": "ipython",
    "version": 3
   },
   "file_extension": ".py",
   "mimetype": "text/x-python",
   "name": "python",
   "nbconvert_exporter": "python",
   "pygments_lexer": "ipython3",
   "version": "3.9.7"
  }
 },
 "nbformat": 4,
 "nbformat_minor": 2
}
