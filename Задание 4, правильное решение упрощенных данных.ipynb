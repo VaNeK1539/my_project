{
 "cells": [
  {
   "cell_type": "code",
   "execution_count": 17,
   "id": "18cefa0d",
   "metadata": {},
   "outputs": [],
   "source": [
    "def appearance(intervals):\n",
    "    \"\"\"функция, которая принимает на вход три уже сокращенных списка и правильно считает общее время \"\"\"\n",
    "    x = intervals['data']['lesson']\n",
    "    y = intervals['data']['pupil']\n",
    "    z = intervals['data']['tutor']\n",
    "    v = []\n",
    "    answer = 0\n",
    "    for i in range(len(x)//2):#так как если начинается, то должно закончиться\n",
    "        for j in range(len(y)//2):\n",
    "            if x[i*2] <= y[j*2] <= y[j*2+1] <= x[i*2+1]:\n",
    "                v.append(y[j*2])\n",
    "                v.append(y[j*2+1])\n",
    "            if y[j*2] <= x[i*2] <= y[j*2+1] <= x[i*2+1]:\n",
    "                v.append(x[i*2])\n",
    "                v.append(y[j*2+1])\n",
    "            if x[i*2] <= y[j*2] <= x[i*2+1] <= y[j*2+1]:\n",
    "                v.append(y[j*2])\n",
    "                v.append(x[i*2+1])\n",
    "    x = z\n",
    "    y = v\n",
    "    for i in range(len(x)//2):#так как если начинается, то должно закончиться\n",
    "        for j in range(len(y)//2):\n",
    "            if x[i*2] <= y[j*2] <= y[j*2+1] <= x[i*2+1]:\n",
    "                answer+=y[j*2+1] - y[j*2]\n",
    "            if y[j*2] <= x[i*2] <= y[j*2+1] <= x[i*2+1]:\n",
    "                answer+=y[j*2+1] - x[i*2]\n",
    "            if x[i*2] <= y[j*2] <= x[i*2+1] <= y[j*2+1]:\n",
    "                answer+=x[i*2+1] - y[j*2]\n",
    "    return answer"
   ]
  },
  {
   "cell_type": "code",
   "execution_count": 18,
   "id": "765b4d94",
   "metadata": {},
   "outputs": [
    {
     "data": {
      "text/plain": [
       "3117"
      ]
     },
     "execution_count": 18,
     "metadata": {},
     "output_type": "execute_result"
    }
   ],
   "source": [
    "tests ={'data': {'lesson': [1594663200, 1594666800],\n",
    "             'pupil': [1594663340, 1594663389, 1594663390, 1594663395, 1594663396, 1594666472],\n",
    "             'tutor': [1594663290, 1594663430, 1594663443, 1594666473]}, 'answer': 3117}\n",
    "appearance(tests)"
   ]
  },
  {
   "cell_type": "code",
   "execution_count": null,
   "id": "2888002e",
   "metadata": {},
   "outputs": [],
   "source": []
  }
 ],
 "metadata": {
  "kernelspec": {
   "display_name": "Python 3 (ipykernel)",
   "language": "python",
   "name": "python3"
  },
  "language_info": {
   "codemirror_mode": {
    "name": "ipython",
    "version": 3
   },
   "file_extension": ".py",
   "mimetype": "text/x-python",
   "name": "python",
   "nbconvert_exporter": "python",
   "pygments_lexer": "ipython3",
   "version": "3.9.7"
  }
 },
 "nbformat": 4,
 "nbformat_minor": 5
}
