{
 "cells": [
  {
   "cell_type": "code",
   "execution_count": 4,
   "id": "0083d5d1",
   "metadata": {},
   "outputs": [
    {
     "name": "stdout",
     "output_type": "stream",
     "text": [
      "11\n",
      "11\n",
      "25\n"
     ]
    }
   ],
   "source": [
    "def task1(array):\n",
    "    return array.index('0')\n",
    "def task(array):\n",
    "    for i in range(len(array)):\n",
    "        if array[i]=='0':\n",
    "            return i\n",
    "print(task1(\"111111111110000000000000000\"))\n",
    "print(task(\"111111111110000000000000000\"))\n",
    "print(task('111111111111111111111111100000000'))"
   ]
  },
  {
   "cell_type": "code",
   "execution_count": 2,
   "id": "efa5c8d5",
   "metadata": {
    "scrolled": true
   },
   "outputs": [
    {
     "data": {
      "text/plain": [
       "True"
      ]
     },
     "execution_count": 2,
     "metadata": {},
     "output_type": "execute_result"
    },
    {
     "data": {
      "image/png": "[encoded data removed]",
      "text/plain": [
       "<Figure size 432x288 with 1 Axes>"
      ]
     },
     "metadata": {
      "needs_background": "light"
     },
     "output_type": "display_data"
    }
   ],
   "source": [
    "from pylab import *\n",
    "def show(*koord):\n",
    "    \"\"\"для наглядности\"\"\"\n",
    "    key_x = (2,0,0,2,2)\n",
    "    key_y = (1,1,3,3,1)\n",
    "    koord1 = koord[:4]\n",
    "    koord2 = koord[4:]\n",
    "    x1,y1 = x_y(koord1)\n",
    "    x2,y2 = x_y(koord2)\n",
    "    plot(x1,y1)\n",
    "    plot(x2,y2)\n",
    "def x_y(koord):\n",
    "    key_x = (2,0,0,2,2)\n",
    "    key_y = (1,1,3,3,1)\n",
    "    return [koord[i] for i in key_x],[koord[i] for i in key_y]\n",
    "def task(x1,y1,x2,y2,x3,y3,x4,y4):\n",
    "    \"\"\"в условии было не совсем понятно, если площадь пересечения равна 0, то они пересекаются или нет.\n",
    "    В данной задаче считается, что они пересекаются, но это можно легко изменить\"\"\"\n",
    "    show(x1,y1,x2,y2,x3,y3,x4,y4)\n",
    "    if min(x1,x2)>max(x3,x4):\n",
    "        return False\n",
    "    if min(x3,x4)>max(x1,x2):\n",
    "        return False\n",
    "    if max(y1,y2)<min(y3,y4):\n",
    "        return False\n",
    "    if max(y3,y4)<min(y1,y2):\n",
    "        return False\n",
    "    return True\n",
    "task(1,1,2,2,3,3,4,4)"
   ]
  },
  {
   "cell_type": "code",
   "execution_count": 2,
   "id": "7dc2c6f1",
   "metadata": {},
   "outputs": [
    {
     "name": "stdout",
     "output_type": "stream",
     "text": [
      "А: 1146\n",
      "Б: 1600\n",
      "В: 515\n",
      "Ж: 392\n",
      "Г: 984\n",
      "П: 1730\n",
      "Д: 739\n",
      "H: 945\n",
      "Е: 99\n",
      "Ё: 2\n",
      "О: 764\n",
      "Я: 209\n",
      "З: 619\n",
      "И: 337\n",
      "Й: 3\n",
      "К: 2184\n",
      "С: 1736\n",
      "Л: 679\n",
      "М: 1242\n",
      "Н: 451\n",
      "Р: 555\n",
      "Т: 968\n",
      "У: 241\n",
      "Ф: 188\n",
      "Х: 270\n",
      "Ц: 218\n",
      "Ч: 658\n",
      "Ш: 267\n",
      "Щ: 146\n",
      "Э: 213\n",
      "Ю: 133\n",
      "A: 2841\n",
      "B: 948\n",
      "C: 2255\n",
      "D: 960\n",
      "E: 942\n",
      "F: 195\n",
      "G: 640\n",
      "I: 324\n",
      "J: 80\n",
      "K: 224\n",
      "L: 942\n",
      "M: 1623\n",
      "N: 761\n",
      "O: 768\n",
      "P: 2472\n",
      "Q: 37\n",
      "R: 480\n",
      "S: 1691\n",
      "T: 1196\n",
      "U: 135\n",
      "V: 169\n",
      "W: 86\n",
      "X: 160\n",
      "Y: 44\n",
      "Z: 208\n"
     ]
    }
   ],
   "source": [
    "import requests\n",
    "from bs4 import BeautifulSoup\n",
    "def animals():\n",
    "    \"\"\"Не совсем понял, нужны ли названия животных, которые на английском или нет, но решил оставить,\n",
    "    это можно легко исправить, ускорив программу\"\"\"\n",
    "    res = requests.get('https://ru.wikipedia.org/w/index.php?title=%D0%9A%D0%B0%D1%82%D0%B5%D0%B3%D0%BE%D1%80%D0%B8%D1%8F:%D0%96%D0%B8%D0%B2%D0%BE%D1%82%D0%BD%D1%8B%D0%B5_%D0%BF%D0%BE_%D0%B0%D0%BB%D1%84%D0%B0%D0%B2%D0%B8%D1%82%D1%83')\n",
    "    soup = BeautifulSoup(res.text, \"html.parser\")\n",
    "    Dict_animals = dict()\n",
    "    Dict_animals['А'] = 0\n",
    "    for word in soup.body.find('div', attrs={'id':'mw-pages'}).find_all('li'):\n",
    "        Dict_animals[word.text[0]] += 1\n",
    "    url = soup.body.find('div', attrs={'id':'mw-pages'}).find('a')['href']\n",
    "    res = requests.get('https://ru.wikipedia.org' +url)\n",
    "    soup = BeautifulSoup(res.text, \"html.parser\")\n",
    "    try:\n",
    "        while True:\n",
    "            for i,word in enumerate(soup.body.find('div', attrs={'id':'mw-pages'}).find_all('li')):\n",
    "                if word.text[0] in Dict_animals:\n",
    "                    Dict_animals[word.text[0]] += 1\n",
    "                else:\n",
    "                    Dict_animals[word.text[0]] = 1\n",
    "            url = soup.body.find('div', attrs={'id':'mw-pages'}).find_all('a')[i+4]\n",
    "            res = requests.get('https://ru.wikipedia.org' +url['href'])\n",
    "            soup = BeautifulSoup(res.text, \"html.parser\")\n",
    "    except:\n",
    "        pass\n",
    "    for i in Dict_animals:\n",
    "        print(F'{i}: {Dict_animals[i]}')\n",
    "animals()"
   ]
  },
  {
   "cell_type": "code",
   "execution_count": null,
   "id": "fd35672e",
   "metadata": {},
   "outputs": [],
   "source": [
    "def appearance(intervals):\n",
    "\"\"\"Ответы в данной задаче будут немного расходиться с ответами, которые представлены в решении,\n",
    "так как в ней считается, что если урок закончился, учитель или ученик вышли из занятия в 30000015,\n",
    "а потом зашли в 30000016, то занятие не закончилось, а продолжилось, так как не понятно, в начале\n",
    "секунды или в конце секунды это произошло, а моя программа считает именно количество секунд(пример\n",
    "из-за чего добавляется пару секунд описал в сообщении, которое отправил вам на почту)\"\"\"\n",
    "    def simplify(interval):\n",
    "        spis = []\n",
    "        for i in range(len(interval)//2):\n",
    "            for j in range(interval[2*i],interval[2*i+1]+1):\n",
    "                spis.append(j)\n",
    "        return spis\n",
    "    interval_lesson = list(set(simplify(intervals['data']['lesson'])))\n",
    "    interval_pupil = list(set(simplify(intervals['data']['pupil'])))\n",
    "    interval_tutor = list(set(simplify(intervals['data']['tutor'])))\n",
    "    interval = []\n",
    "    answer = 0\n",
    "    for i in interval_lesson:\n",
    "        if i in interval_pupil:\n",
    "            interval.append(i)\n",
    "    for i in interval:\n",
    "        if i in interval_tutor:\n",
    "            answer+=1\n",
    "    return answer"
   ]
  }
 ],
 "metadata": {
  "kernelspec": {
   "display_name": "Python 3 (ipykernel)",
   "language": "python",
   "name": "python3"
  },
  "language_info": {
   "codemirror_mode": {
    "name": "ipython",
    "version": 3
   },
   "file_extension": ".py",
   "mimetype": "text/x-python",
   "name": "python",
   "nbconvert_exporter": "python",
   "pygments_lexer": "ipython3",
   "version": "3.9.7"
  }
 },
 "nbformat": 4,
 "nbformat_minor": 5
}
